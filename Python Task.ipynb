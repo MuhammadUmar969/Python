{
 "cells": [
  {
   "cell_type": "code",
   "execution_count": 5,
   "id": "e9e8f5ff",
   "metadata": {},
   "outputs": [
    {
     "name": "stdout",
     "output_type": "stream",
     "text": [
      "Enter a value for multiplication5\n",
      "Enter a value for first range10\n",
      "Enter a value for second range20\n",
      "5 x 10 = 50\n",
      "5 x 11 = 55\n",
      "5 x 12 = 60\n",
      "5 x 13 = 65\n",
      "5 x 14 = 70\n",
      "5 x 15 = 75\n",
      "5 x 16 = 80\n",
      "5 x 17 = 85\n",
      "5 x 18 = 90\n",
      "5 x 19 = 95\n",
      "5 x 20 = 100\n"
     ]
    }
   ],
   "source": [
    "number = int(input(\"Enter a value for multiplication\"))\n",
    "range1 = int(input(\"Enter a value for first range\"))\n",
    "range2 = int(input(\"Enter a value for second range\"))\n",
    "\n",
    "for val in range(range1,range2+1):\n",
    "    print(number,\"x\",val,\"=\",val*number)"
   ]
  },
  {
   "cell_type": "code",
   "execution_count": null,
   "id": "a43362e2",
   "metadata": {},
   "outputs": [],
   "source": []
  }
 ],
 "metadata": {
  "kernelspec": {
   "display_name": "Python 3 (ipykernel)",
   "language": "python",
   "name": "python3"
  },
  "language_info": {
   "codemirror_mode": {
    "name": "ipython",
    "version": 3
   },
   "file_extension": ".py",
   "mimetype": "text/x-python",
   "name": "python",
   "nbconvert_exporter": "python",
   "pygments_lexer": "ipython3",
   "version": "3.9.13"
  }
 },
 "nbformat": 4,
 "nbformat_minor": 5
}
